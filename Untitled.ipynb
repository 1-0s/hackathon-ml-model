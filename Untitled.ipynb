{
 "cells": [
  {
   "cell_type": "code",
   "execution_count": 1,
   "id": "63ff1a37",
   "metadata": {},
   "outputs": [
    {
     "name": "stdout",
     "output_type": "stream",
     "text": [
      "Requirement already satisfied: textdistance in c:\\users\\teddy\\anaconda3\\lib\\site-packages (4.2.1)\n"
     ]
    }
   ],
   "source": [
    "!pip install textdistance"
   ]
  },
  {
   "cell_type": "code",
   "execution_count": null,
   "id": "a5c0f491",
   "metadata": {},
   "outputs": [],
   "source": [
    "from nltk.corpus import wordnet\n",
    "import nltk\n",
    "\n",
    "from nltk.corpus import wordnet\n",
    "nltk.download('omw-1.4')\n",
    "nltk.download('wordnet')\n",
    "# Then, we're going to use the term \"program\" to find synsets like so:\n",
    "syns = wordnet.synsets(\"program\")\n",
    "  \n",
    "# An example of a synset:\n",
    "print(syns[0].name())\n",
    "  \n",
    "# Just the word:\n",
    "print(syns[0].lemmas()[0].name())\n",
    "  \n",
    "# Definition of that first synset:\n",
    "print(syns[0].definition())\n",
    "  \n",
    "# Examples of the word in use in sentences:\n",
    "print(syns[0].examples())"
   ]
  },
  {
   "cell_type": "code",
   "execution_count": 15,
   "id": "9a66c311",
   "metadata": {},
   "outputs": [
    {
     "name": "stdout",
     "output_type": "stream",
     "text": [
      "{'pain_sensation', 'painful_sensation', 'bother', 'pain', 'hurting', 'annoyance', 'nuisance', 'trouble', 'hurt', 'botheration', 'infliction', 'pain_in_the_neck', 'painfulness', 'pain_in_the_ass', 'anguish', 'ail'}\n",
      "{'pleasure'}\n"
     ]
    }
   ],
   "source": [
    "\n",
    "\n",
    "synonyms = []\n",
    "antonyms = []\n",
    "  \n",
    "for syn in wordnet.synsets(\"pain\"):\n",
    "    for l in syn.lemmas():\n",
    "        synonyms.append(l.name())\n",
    "        if l.antonyms():\n",
    "            antonyms.append(l.antonyms()[0].name())\n",
    "  \n",
    "print(set(synonyms))\n",
    "print(set(antonyms))"
   ]
  },
  {
   "cell_type": "code",
   "execution_count": 34,
   "id": "da7d49b8",
   "metadata": {},
   "outputs": [
    {
     "name": "stdout",
     "output_type": "stream",
     "text": [
      "1.0\n"
     ]
    }
   ],
   "source": [
    "\n",
    "w1 = wordnet.synset('pain.n.01')\n",
    "w2 = wordnet.synset('pain.n.01') # n denotes noun\n",
    "print(w1.wup_similarity(w2))"
   ]
  },
  {
   "cell_type": "code",
   "execution_count": 81,
   "id": "4f967566",
   "metadata": {},
   "outputs": [],
   "source": [
    "# Step 1: Data Preprocessing\n",
    "import re  # regular expression\n",
    "from collections import Counter\n",
    "import numpy as np\n",
    "import pandas as pd\n",
    "\n",
    " \n",
    "\n",
    "def autocorrectword(my_word):\n",
    "    w = []  \n",
    "    with open('words.txt','r',encoding=\"utf8\") as f:\n",
    "        file_name_data = f.read()\n",
    "        file_name_data = file_name_data.lower()\n",
    "        w = re.findall('\\w+', file_name_data)\n",
    "\n",
    "\n",
    "    v = set(w) \n",
    " \n",
    "\n",
    "\n",
    "    def get_count(words):\n",
    "        word_count = {}\n",
    "        for word in words:\n",
    "            if word in word_count:\n",
    "                word_count[word] += 1\n",
    "            else:\n",
    "                word_count[word] = 1\n",
    "        return word_count\n",
    "\n",
    "\n",
    "    word_count = get_count(w)\n",
    " \n",
    "\n",
    "\n",
    "\n",
    "\n",
    "\n",
    "\n",
    "    def get_probs(word_count_dict):\n",
    "        probs = {}\n",
    "        m = sum(word_count_dict.values())\n",
    "        for key in word_count_dict.keys():\n",
    "            probs[key] = word_count_dict[key] / m\n",
    "        return probs\n",
    "\n",
    "\n",
    "    # Now we implement 4 edit word functions\n",
    "\n",
    "\n",
    "    def DeleteLetter(word):\n",
    "        delete_list = []\n",
    "        split_list = []\n",
    "        for i in range(len(word)):\n",
    "            split_list.append((word[0:i], word[i:]))\n",
    "        for a, b in split_list:\n",
    "            delete_list.append(a + b[1:])\n",
    "        return delete_list\n",
    "\n",
    "\n",
    "    delete_word_l = DeleteLetter(word=\"cans\")\n",
    "\n",
    "    def SwitchLetter(word):\n",
    "        split_l = []\n",
    "        switch_l = []\n",
    "        for i in range(len(word)):\n",
    "            split_l.append((word[0:i], word[i:]))\n",
    "        switch_l = [a + b[1] + b[0] + b[2:] for a, b in split_l if len(b) >= 2]\n",
    "        return switch_l\n",
    "\n",
    "\n",
    "    switch_word_l = SwitchLetter(word=\"eta\")\n",
    "\n",
    "\n",
    "    def replace_letter(word):\n",
    "        split_l = []\n",
    "        replace_list = []\n",
    "        for i in range(len(word)):\n",
    "            split_l.append((word[0:i], word[i:]))\n",
    "        alphabets = 'abcdefghijklmnopqrstuvwxyz'\n",
    "        replace_list = [a + l + (b[1:] if len(b) > 1 else '') for a, b in split_l if b for l in alphabets]\n",
    "        return replace_list\n",
    "\n",
    "\n",
    "    replace_l = replace_letter(word='can')\n",
    "\n",
    "\n",
    "    def insert_letter(word):\n",
    "        split_l = []\n",
    "        insert_list = []\n",
    "        for i in range(len(word) + 1):\n",
    "            split_l.append((word[0:i], word[i:]))\n",
    "        letters = 'abcdefghijklmnopqrstuvwxyz'\n",
    "        insert_list = [a + l + b for a, b in split_l for l in letters]\n",
    "        # print(split_l)\n",
    "        return insert_list\n",
    "\n",
    "\n",
    "    def edit_one_letter(word, allow_switches=True):\n",
    "        edit_set1 = set()\n",
    "        edit_set1.update(DeleteLetter(word))\n",
    "        if allow_switches:\n",
    "            edit_set1.update(SwitchLetter(word))\n",
    "        edit_set1.update(replace_letter(word))\n",
    "        edit_set1.update(insert_letter(word))\n",
    "        return edit_set1\n",
    "\n",
    "\n",
    "    def edit_two_letters(word, allow_switches=True):\n",
    "        edit_set2 = set()\n",
    "        edit_one = edit_one_letter(word, allow_switches=allow_switches)\n",
    "        for w in edit_one:\n",
    "            if w:\n",
    "                edit_two = edit_one_letter(w, allow_switches=allow_switches)\n",
    "                edit_set2.update(edit_two)\n",
    "        return edit_set2\n",
    "\n",
    "\n",
    "\n",
    "    def get_corrections(word, probs, vocab, n=2):\n",
    "        suggested_word = []\n",
    "        best_suggestion = []\n",
    "        suggested_word = list(\n",
    "            (word in vocab and word) or edit_one_letter(word).intersection(vocab) or edit_two_letters(word).intersection(\n",
    "                vocab))\n",
    "        best_suggestion = [[s, probs[s]] for s in list(reversed(suggested_word))]\n",
    "        return best_suggestion\n",
    "\n",
    "\n",
    "\n",
    "    probs = get_probs(word_count)\n",
    "    tmp_corrections = get_corrections(my_word, probs, v, 2)\n",
    " \n",
    "    box=[]\n",
    "\n",
    "    for i, word_prob in enumerate(tmp_corrections):\n",
    "       # print(f\"word {i}: {word_prob[0]}, probability {word_prob[1]:.6f}\")\n",
    "        box.append([str(f'{word_prob[1]:.6f}'),word_prob[0]])\n",
    "    box.sort()\n",
    "    return box"
   ]
  },
  {
   "cell_type": "code",
   "execution_count": 85,
   "id": "16d72cc5",
   "metadata": {},
   "outputs": [
    {
     "data": {
      "text/plain": [
       "[['0.000002', 'segregate']]"
      ]
     },
     "execution_count": 85,
     "metadata": {},
     "output_type": "execute_result"
    }
   ],
   "source": [
    "autocorrectword('segrerate')"
   ]
  },
  {
   "cell_type": "code",
   "execution_count": 65,
   "id": "c75657f8",
   "metadata": {},
   "outputs": [],
   "source": []
  },
  {
   "cell_type": "code",
   "execution_count": 66,
   "id": "0f63823b",
   "metadata": {},
   "outputs": [
    {
     "data": {
      "text/plain": [
       "[['0.00242657339948796', 'well'],\n",
       " ['1.9366108535418674e-06', 'elc'],\n",
       " ['1.9366108535418674e-06', 'welch'],\n",
       " ['1.9366108535418674e-06', 'welcy'],\n",
       " ['1.9366108535418674e-06', 'welf'],\n",
       " ['1.9366108535418674e-06', 'weli'],\n",
       " ['1.9366108535418674e-06', 'welk'],\n",
       " ['1.9366108535418674e-06', 'wels'],\n",
       " ['3.873221707083735e-06', 'welt'],\n",
       " ['9.683054267709338e-06', 'weld']]"
      ]
     },
     "execution_count": 66,
     "metadata": {},
     "output_type": "execute_result"
    }
   ],
   "source": [
    "box"
   ]
  },
  {
   "cell_type": "code",
   "execution_count": null,
   "id": "652e068f",
   "metadata": {},
   "outputs": [],
   "source": []
  }
 ],
 "metadata": {
  "kernelspec": {
   "display_name": "Python 3 (ipykernel)",
   "language": "python",
   "name": "python3"
  },
  "language_info": {
   "codemirror_mode": {
    "name": "ipython",
    "version": 3
   },
   "file_extension": ".py",
   "mimetype": "text/x-python",
   "name": "python",
   "nbconvert_exporter": "python",
   "pygments_lexer": "ipython3",
   "version": "3.9.12"
  }
 },
 "nbformat": 4,
 "nbformat_minor": 5
}
