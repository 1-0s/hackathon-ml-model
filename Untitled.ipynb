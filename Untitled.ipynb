{
 "cells": [
  {
   "cell_type": "code",
   "execution_count": 11,
   "id": "9320bee9",
   "metadata": {},
   "outputs": [],
   "source": [
    "import pandas as pd\n",
    "import requests\n",
    "import lxml.html as lh\n",
    "import pandas as pd"
   ]
  },
  {
   "cell_type": "code",
   "execution_count": 12,
   "id": "cd696606",
   "metadata": {},
   "outputs": [],
   "source": [
    "url='https://people.dbmi.columbia.edu/~friedma/Projects/DiseaseSymptomKB/index.html'\n",
    "#Create a handle, page, to handle the contents of the website\n",
    "page = requests.get(url)\n",
    "#Store the contents of the website under doc\n",
    "doc = lh.fromstring(page.content)\n",
    "#Parse data that are stored between <tr>..</tr> of HTML\n",
    "tr_elements = doc.xpath('//tr')"
   ]
  },
  {
   "cell_type": "code",
   "execution_count": 25,
   "id": "2661562f",
   "metadata": {},
   "outputs": [
    {
     "data": {
      "text/plain": [
       "[3, 3, 3, 3, 3, 3, 3, 3, 3, 3, 3, 3]"
      ]
     },
     "execution_count": 25,
     "metadata": {},
     "output_type": "execute_result"
    }
   ],
   "source": [
    "[len(T) for T in tr_elements[:12]]"
   ]
  },
  {
   "cell_type": "code",
   "execution_count": 56,
   "id": "a7924db1",
   "metadata": {},
   "outputs": [
    {
     "name": "stdout",
     "output_type": "stream",
     "text": [
      "1:\"Disease\"\n",
      "2:\"CountofDiseaseOccurrence\"\n",
      "3:\"Symptom\"\n"
     ]
    }
   ],
   "source": [
    "tr_elements = doc.xpath('//tr')\n",
    "#Create empty list\n",
    "col=[]\n",
    "i=0\n",
    "#For each row, store each first element (header) and an empty list\n",
    "for t in tr_elements[0]:\n",
    "    i+=1\n",
    "    name=str(t.text_content()).strip('\\n').replace('\\n','').replace(' ','')\n",
    "    print('%d:\"%s\"'%(i,name))\n",
    "    col.append((name,[]))"
   ]
  },
  {
   "cell_type": "code",
   "execution_count": 175,
   "id": "3edc4c61",
   "metadata": {},
   "outputs": [
    {
     "data": {
      "text/plain": [
       "1867"
      ]
     },
     "execution_count": 175,
     "metadata": {},
     "output_type": "execute_result"
    }
   ],
   "source": [
    "len(tr_elements)"
   ]
  },
  {
   "cell_type": "code",
   "execution_count": 114,
   "id": "4512be17",
   "metadata": {},
   "outputs": [],
   "source": [
    "def prewc(word):\n",
    "    for i in range(len(word)):\n",
    "        try:\n",
    "            int(word)\n",
    "            return word\n",
    "        except:\n",
    "            if word[i]=='_':\n",
    "                return word[i+1:]\n",
    "def preoc(i:int):\n",
    "    word = str(tr_elements[int(i)].text_content().replace('\\n  \\n  \\n  ',',').replace('\\n  \\n  ','').replace('\\n  ','').replace('\\n ',''))\n",
    "    words =[prewc(w)  for w in  word.split(',') ]\n",
    "    return words"
   ]
  },
  {
   "cell_type": "code",
   "execution_count": 176,
   "id": "95631ff9",
   "metadata": {},
   "outputs": [],
   "source": [
    "doc={}\n",
    "a=0\n",
    "for j in range(1,180):\n",
    "    ans = preoc(j)\n",
    "    #print(ans)\n",
    " \n",
    "    if ans[0]!=None:\n",
    "        a+=1\n",
    "        box=[]\n",
    "        box.append(ans[2])\n",
    "        doc[str(a)]={'disease':ans[0],\n",
    "                    'occurence':ans[1],\n",
    "                    'symptoms':box}\n",
    "    else:\n",
    "        box.append(ans[2])\n",
    "disease=[]\n",
    "occurrence=[]\n",
    "symptoms=[]\n",
    "for c in doc.values():\n",
    "    sym=''\n",
    "    for x in c['symptoms']:\n",
    "        sym+=','+x\n",
    "    disease.append(c['disease'])\n",
    "    occurrence.append(int(c['occurence']))\n",
    "    symptoms.append(sym.strip(','))\n",
    "    "
   ]
  },
  {
   "cell_type": "code",
   "execution_count": 177,
   "id": "8d88fd05",
   "metadata": {},
   "outputs": [],
   "source": [
    "\n",
    "df=pd.DataFrame(columns=['Disease', 'Occurrence', 'Symptoms'])\n",
    "\n",
    "df['Disease']=disease\n",
    "df['Occurrence']=occurrence\n",
    "df['Symptoms']=symptoms\n"
   ]
  },
  {
   "cell_type": "code",
   "execution_count": 178,
   "id": "15f9fb6c",
   "metadata": {},
   "outputs": [
    {
     "data": {
      "text/html": [
       "<div>\n",
       "<style scoped>\n",
       "    .dataframe tbody tr th:only-of-type {\n",
       "        vertical-align: middle;\n",
       "    }\n",
       "\n",
       "    .dataframe tbody tr th {\n",
       "        vertical-align: top;\n",
       "    }\n",
       "\n",
       "    .dataframe thead th {\n",
       "        text-align: right;\n",
       "    }\n",
       "</style>\n",
       "<table border=\"1\" class=\"dataframe\">\n",
       "  <thead>\n",
       "    <tr style=\"text-align: right;\">\n",
       "      <th></th>\n",
       "      <th>Disease</th>\n",
       "      <th>Occurrence</th>\n",
       "      <th>Symptoms</th>\n",
       "    </tr>\n",
       "  </thead>\n",
       "  <tbody>\n",
       "    <tr>\n",
       "      <th>0</th>\n",
       "      <td>hypertensivedisease</td>\n",
       "      <td>3363</td>\n",
       "      <td>painchest,shortnessof breath,dizziness,astheni...</td>\n",
       "    </tr>\n",
       "    <tr>\n",
       "      <th>1</th>\n",
       "      <td>diabetes</td>\n",
       "      <td>1421</td>\n",
       "      <td>polyuria,polydypsia,shortnessof breath,painche...</td>\n",
       "    </tr>\n",
       "    <tr>\n",
       "      <th>2</th>\n",
       "      <td>depressionmental^UMLS:C0011581_depressive diso...</td>\n",
       "      <td>1337</td>\n",
       "      <td>feelingsuicidal,suicidal,hallucinationsauditor...</td>\n",
       "    </tr>\n",
       "    <tr>\n",
       "      <th>3</th>\n",
       "      <td>coronaryarteriosclerosis^UMLS:C0010068_coronar...</td>\n",
       "      <td>1284</td>\n",
       "      <td>painchest,anginapectoris,shortnessof breath,hy...</td>\n",
       "    </tr>\n",
       "    <tr>\n",
       "      <th>4</th>\n",
       "      <td>pneumonia</td>\n",
       "      <td>1029</td>\n",
       "      <td>cough,fever,decreasedtranslucency,shortnessof ...</td>\n",
       "    </tr>\n",
       "    <tr>\n",
       "      <th>5</th>\n",
       "      <td>failureheart congestive</td>\n",
       "      <td>963</td>\n",
       "      <td>shortnessof breath,orthopnea,jugularvenous dis...</td>\n",
       "    </tr>\n",
       "    <tr>\n",
       "      <th>6</th>\n",
       "      <td>accidentcerebrovascular</td>\n",
       "      <td>885</td>\n",
       "      <td>dysarthria,asthenia,speechslurred,facialparesi...</td>\n",
       "    </tr>\n",
       "    <tr>\n",
       "      <th>7</th>\n",
       "      <td>asthma</td>\n",
       "      <td>835</td>\n",
       "      <td>wheezing,cough,shortnessof breath,chesttightne...</td>\n",
       "    </tr>\n",
       "    <tr>\n",
       "      <th>8</th>\n",
       "      <td>myocardialinfarction</td>\n",
       "      <td>759</td>\n",
       "      <td>pain chest,st segment elevation,sweat^UMLS:C07...</td>\n",
       "    </tr>\n",
       "    <tr>\n",
       "      <th>9</th>\n",
       "      <td>hypercholesterolemia</td>\n",
       "      <td>685</td>\n",
       "      <td>pain,pain chest,sweat^UMLS:C0700590_sweating i...</td>\n",
       "    </tr>\n",
       "    <tr>\n",
       "      <th>10</th>\n",
       "      <td>infection</td>\n",
       "      <td>630</td>\n",
       "      <td>fever,erythema,decreased translucency,hepatosp...</td>\n",
       "    </tr>\n",
       "    <tr>\n",
       "      <th>11</th>\n",
       "      <td>infectionurinary tract</td>\n",
       "      <td>597</td>\n",
       "      <td>fever,dysuria,hematuria,renal angle tenderness...</td>\n",
       "    </tr>\n",
       "    <tr>\n",
       "      <th>12</th>\n",
       "      <td>anemia</td>\n",
       "      <td>544</td>\n",
       "      <td>chill,guaiac positive,monoclonal,ecchymosis,tu...</td>\n",
       "    </tr>\n",
       "    <tr>\n",
       "      <th>13</th>\n",
       "      <td>chronicobstructive airway disease</td>\n",
       "      <td>524</td>\n",
       "      <td>shortness of breath,wheezing,cough,dyspnea</td>\n",
       "    </tr>\n",
       "  </tbody>\n",
       "</table>\n",
       "</div>"
      ],
      "text/plain": [
       "                                              Disease  Occurrence  \\\n",
       "0                                 hypertensivedisease        3363   \n",
       "1                                            diabetes        1421   \n",
       "2   depressionmental^UMLS:C0011581_depressive diso...        1337   \n",
       "3   coronaryarteriosclerosis^UMLS:C0010068_coronar...        1284   \n",
       "4                                           pneumonia        1029   \n",
       "5                             failureheart congestive         963   \n",
       "6                             accidentcerebrovascular         885   \n",
       "7                                              asthma         835   \n",
       "8                                myocardialinfarction         759   \n",
       "9                                hypercholesterolemia         685   \n",
       "10                                          infection         630   \n",
       "11                             infectionurinary tract         597   \n",
       "12                                             anemia         544   \n",
       "13                  chronicobstructive airway disease         524   \n",
       "\n",
       "                                             Symptoms  \n",
       "0   painchest,shortnessof breath,dizziness,astheni...  \n",
       "1   polyuria,polydypsia,shortnessof breath,painche...  \n",
       "2   feelingsuicidal,suicidal,hallucinationsauditor...  \n",
       "3   painchest,anginapectoris,shortnessof breath,hy...  \n",
       "4   cough,fever,decreasedtranslucency,shortnessof ...  \n",
       "5   shortnessof breath,orthopnea,jugularvenous dis...  \n",
       "6   dysarthria,asthenia,speechslurred,facialparesi...  \n",
       "7   wheezing,cough,shortnessof breath,chesttightne...  \n",
       "8   pain chest,st segment elevation,sweat^UMLS:C07...  \n",
       "9   pain,pain chest,sweat^UMLS:C0700590_sweating i...  \n",
       "10  fever,erythema,decreased translucency,hepatosp...  \n",
       "11  fever,dysuria,hematuria,renal angle tenderness...  \n",
       "12  chill,guaiac positive,monoclonal,ecchymosis,tu...  \n",
       "13         shortness of breath,wheezing,cough,dyspnea  "
      ]
     },
     "execution_count": 178,
     "metadata": {},
     "output_type": "execute_result"
    }
   ],
   "source": [
    "df"
   ]
  },
  {
   "cell_type": "code",
   "execution_count": 180,
   "id": "ae009b45",
   "metadata": {},
   "outputs": [
    {
     "data": {
      "text/plain": [
       "Disease       0\n",
       "Occurrence    0\n",
       "Symptoms      0\n",
       "dtype: int64"
      ]
     },
     "execution_count": 180,
     "metadata": {},
     "output_type": "execute_result"
    }
   ],
   "source": [
    "df.isna().sum()"
   ]
  },
  {
   "cell_type": "code",
   "execution_count": null,
   "id": "0411e26c",
   "metadata": {},
   "outputs": [],
   "source": []
  }
 ],
 "metadata": {
  "kernelspec": {
   "display_name": "Python 3 (ipykernel)",
   "language": "python",
   "name": "python3"
  },
  "language_info": {
   "codemirror_mode": {
    "name": "ipython",
    "version": 3
   },
   "file_extension": ".py",
   "mimetype": "text/x-python",
   "name": "python",
   "nbconvert_exporter": "python",
   "pygments_lexer": "ipython3",
   "version": "3.9.12"
  }
 },
 "nbformat": 4,
 "nbformat_minor": 5
}
