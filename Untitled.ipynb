{
 "cells": [
  {
   "cell_type": "code",
   "execution_count": 11,
   "id": "f39c1dc7",
   "metadata": {},
   "outputs": [],
   "source": [
    "import pandas as pd\n",
    "import requests\n",
    "import lxml.html as lh\n",
    "import pandas as pd"
   ]
  },
  {
   "cell_type": "code",
   "execution_count": 12,
   "id": "7d95ea39",
   "metadata": {},
   "outputs": [],
   "source": [
    "url='https://people.dbmi.columbia.edu/~friedma/Projects/DiseaseSymptomKB/index.html'\n",
    "#Create a handle, page, to handle the contents of the website\n",
    "page = requests.get(url)\n",
    "#Store the contents of the website under doc\n",
    "doc = lh.fromstring(page.content)\n",
    "#Parse data that are stored between <tr>..</tr> of HTML\n",
    "tr_elements = doc.xpath('//tr')"
   ]
  },
  {
   "cell_type": "code",
   "execution_count": 25,
   "id": "45e590a0",
   "metadata": {},
   "outputs": [
    {
     "data": {
      "text/plain": [
       "[3, 3, 3, 3, 3, 3, 3, 3, 3, 3, 3, 3]"
      ]
     },
     "execution_count": 25,
     "metadata": {},
     "output_type": "execute_result"
    }
   ],
   "source": [
    "[len(T) for T in tr_elements[:12]]"
   ]
  },
  {
   "cell_type": "code",
   "execution_count": 56,
   "id": "f67f913a",
   "metadata": {},
   "outputs": [
    {
     "name": "stdout",
     "output_type": "stream",
     "text": [
      "1:\"Disease\"\n",
      "2:\"CountofDiseaseOccurrence\"\n",
      "3:\"Symptom\"\n"
     ]
    }
   ],
   "source": [
    "tr_elements = doc.xpath('//tr')\n",
    "#Create empty list\n",
    "col=[]\n",
    "i=0\n",
    "#For each row, store each first element (header) and an empty list\n",
    "for t in tr_elements[0]:\n",
    "    i+=1\n",
    "    name=str(t.text_content()).strip('\\n').replace('\\n','').replace(' ','')\n",
    "    print('%d:\"%s\"'%(i,name))\n",
    "    col.append((name,[]))"
   ]
  },
  {
   "cell_type": "code",
   "execution_count": 114,
   "id": "c965f972",
   "metadata": {},
   "outputs": [],
   "source": [
    "def prewc(word):\n",
    "    for i in range(len(word)):\n",
    "        try:\n",
    "            int(word)\n",
    "            return word\n",
    "        except:\n",
    "            if word[i]=='_':\n",
    "                return word[i+1:]\n",
    "def preoc(i:int):\n",
    "    word = str(tr_elements[int(i)].text_content().replace('\\n  \\n  \\n  ',',').replace('\\n  \\n  ','').replace('\\n  ','').replace('\\n ',''))\n",
    "    words =[prewc(w)  for w in  word.split(',') ]\n",
    "    return words"
   ]
  },
  {
   "cell_type": "code",
   "execution_count": 116,
   "id": "d61175b2",
   "metadata": {},
   "outputs": [
    {
     "data": {
      "text/plain": [
       "[None, None, 'dizziness']"
      ]
     },
     "execution_count": 116,
     "metadata": {},
     "output_type": "execute_result"
    }
   ],
   "source": [
    "preoc(3)"
   ]
  },
  {
   "cell_type": "code",
   "execution_count": 90,
   "id": "fa4c0f2d",
   "metadata": {},
   "outputs": [
    {
     "data": {
      "text/plain": [
       "'teddy'"
      ]
     },
     "execution_count": 90,
     "metadata": {},
     "output_type": "execute_result"
    }
   ],
   "source": []
  },
  {
   "cell_type": "code",
   "execution_count": 146,
   "id": "6631815e",
   "metadata": {},
   "outputs": [],
   "source": [
    "doc={}"
   ]
  },
  {
   "cell_type": "code",
   "execution_count": 148,
   "id": "07abbd8b",
   "metadata": {},
   "outputs": [
    {
     "name": "stdout",
     "output_type": "stream",
     "text": [
      "{'disease': 'hypertensivedisease', 'occurence': '3363', 'symptoms': ['painchest', 'shortnessof breath', 'dizziness', 'asthenia', 'fall', 'syncope', 'vertigo', 'sweat^UMLS:C0700590_sweatingincreased', 'palpitation', 'nausea', 'anginapectoris', 'pressurechest']}\n",
      "{'disease': 'diabetes', 'occurence': '1421', 'symptoms': ['polyuria', 'polydypsia', 'shortnessof breath', 'painchest', 'asthenia', 'nausea', 'orthopnea', 'rale', 'sweat^UMLS:C0700590_sweatingincreased', 'unresponsiveness', 'mentalstatus changes', 'vertigo', 'vomiting', 'labored breathing']}\n",
      "{'disease': 'depressionmental^UMLS:C0011581_depressive disorder', 'occurence': '1337', 'symptoms': ['feelingsuicidal', 'suicidal', 'hallucinationsauditory', 'feelinghopeless', 'weepiness', 'sleeplessness', 'motorretardation', 'irritablemood', 'blackout', 'mooddepressed', 'hallucinationsvisual', 'worry', 'agitation', 'tremor', 'intoxication', 'verbalauditory hallucinations', 'energyincreased', 'difficulty']}\n"
     ]
    }
   ],
   "source": [
    "a=0\n",
    "for j in range(1,45):\n",
    "    ans = preoc(j)\n",
    "    #print(ans)\n",
    " \n",
    "    if ans[0]!=None:\n",
    "        a+=1\n",
    "        box=[]\n",
    "        box.append(ans[2])\n",
    "        doc[str(a)]={'disease':ans[0],\n",
    "                    'occurence':ans[1],\n",
    "                    'symptoms':box}\n",
    "    else:\n",
    "        box.append(ans[2])\n",
    "    \n",
    "for c in doc.values():\n",
    "    print(c)"
   ]
  },
  {
   "cell_type": "code",
   "execution_count": 139,
   "id": "e66a43b1",
   "metadata": {},
   "outputs": [],
   "source": [
    "for j in range(1,len(tr_elements)):\n",
    "    #T is our j'th row\n",
    "    T=tr_elements[j]\n",
    "    \n",
    "    #If row is not of size 10, the //tr data is not from our table \n",
    "    if len(T)!=10:\n",
    "        break\n",
    "    \n",
    "    #i is the index of our column\n",
    "    i=0\n",
    "    \n",
    "    #Iterate through each element of the row\n",
    "    for t in T.iterchildren():\n",
    "        data=t.text_content() \n",
    "        #Check if row is empty\n",
    "        if i>0:\n",
    "        #Convert any numerical value to integers\n",
    "            try:\n",
    "                data=int(data)\n",
    "            except:\n",
    "                pass\n",
    "        #Append the data to the empty list of the i'th column\n",
    "        col[i][1].append(data)\n",
    "        #Increment i for the next column\n",
    "        i+=1"
   ]
  },
  {
   "cell_type": "code",
   "execution_count": 44,
   "id": "9045e919",
   "metadata": {},
   "outputs": [
    {
     "data": {
      "text/plain": [
       "[0, 0, 0]"
      ]
     },
     "execution_count": 44,
     "metadata": {},
     "output_type": "execute_result"
    }
   ],
   "source": [
    "[len(C) for (title,C) in col]"
   ]
  },
  {
   "cell_type": "code",
   "execution_count": 50,
   "id": "726e1c5f",
   "metadata": {},
   "outputs": [],
   "source": [
    "Dict={title:column for (title,column) in col}\n",
    "df=pd.DataFrame(Dict)\n",
    "df.columns=['Disease', 'Occurrence', 'Symptom']"
   ]
  },
  {
   "cell_type": "code",
   "execution_count": 51,
   "id": "78860c75",
   "metadata": {},
   "outputs": [
    {
     "data": {
      "text/html": [
       "<div>\n",
       "<style scoped>\n",
       "    .dataframe tbody tr th:only-of-type {\n",
       "        vertical-align: middle;\n",
       "    }\n",
       "\n",
       "    .dataframe tbody tr th {\n",
       "        vertical-align: top;\n",
       "    }\n",
       "\n",
       "    .dataframe thead th {\n",
       "        text-align: right;\n",
       "    }\n",
       "</style>\n",
       "<table border=\"1\" class=\"dataframe\">\n",
       "  <thead>\n",
       "    <tr style=\"text-align: right;\">\n",
       "      <th></th>\n",
       "      <th>Disease</th>\n",
       "      <th>Occurrence</th>\n",
       "      <th>Symptom</th>\n",
       "    </tr>\n",
       "  </thead>\n",
       "  <tbody>\n",
       "  </tbody>\n",
       "</table>\n",
       "</div>"
      ],
      "text/plain": [
       "Empty DataFrame\n",
       "Columns: [Disease, Occurrence, Symptom]\n",
       "Index: []"
      ]
     },
     "execution_count": 51,
     "metadata": {},
     "output_type": "execute_result"
    }
   ],
   "source": [
    "df.head()"
   ]
  },
  {
   "cell_type": "code",
   "execution_count": 49,
   "id": "0d42f142",
   "metadata": {},
   "outputs": [],
   "source": []
  },
  {
   "cell_type": "code",
   "execution_count": null,
   "id": "2402f5df",
   "metadata": {},
   "outputs": [],
   "source": []
  }
 ],
 "metadata": {
  "kernelspec": {
   "display_name": "Python 3 (ipykernel)",
   "language": "python",
   "name": "python3"
  },
  "language_info": {
   "codemirror_mode": {
    "name": "ipython",
    "version": 3
   },
   "file_extension": ".py",
   "mimetype": "text/x-python",
   "name": "python",
   "nbconvert_exporter": "python",
   "pygments_lexer": "ipython3",
   "version": "3.9.12"
  }
 },
 "nbformat": 4,
 "nbformat_minor": 5
}
